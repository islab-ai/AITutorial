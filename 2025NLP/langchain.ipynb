{
 "cells": [
  {
   "cell_type": "code",
   "execution_count": 1,
   "metadata": {},
   "outputs": [
    {
     "data": {
      "text/plain": [
       "True"
      ]
     },
     "execution_count": 1,
     "metadata": {},
     "output_type": "execute_result"
    }
   ],
   "source": [
    "from dotenv import load_dotenv\n",
    "load_dotenv()"
   ]
  },
  {
   "cell_type": "markdown",
   "metadata": {},
   "source": [
    "## Chain 선언방법"
   ]
  },
  {
   "cell_type": "code",
   "execution_count": 2,
   "metadata": {},
   "outputs": [],
   "source": [
    "# from langchain_openai import ChatOpenAI\n",
    "# from langchain_core.prompts import PromptTemplate\n",
    "\n",
    "# template = \"{topic} 에 대해 쉽게 설명해주세요.\"\n",
    "# prompt = PromptTemplate.from_template(template)\n",
    "# model = ChatOpenAI(model=\"gpt-4.1-nano\", temperature=0.1)\n",
    "# chain = prompt | model\n",
    "# input = {\"topic\": \"인공지능 모델의 학습 원리\"}\n",
    "\n",
    "# print(chain.invoke(input).content)"
   ]
  },
  {
   "cell_type": "markdown",
   "metadata": {},
   "source": [
    "## Prompt 작성방법"
   ]
  },
  {
   "cell_type": "code",
   "execution_count": 3,
   "metadata": {},
   "outputs": [],
   "source": [
    "# from langchain_core.output_parsers import StrOutputParser\n",
    "\n",
    "# template = \"\"\"\n",
    "# 당신은 영어를 가르치는 10년차 영어 선생님입니다. 주어진 상황에 맞는 영어 회화를 작성해 주세요.\n",
    "# 양식은 [FORMAT]을 참고하여 작성해 주세요.\n",
    "\n",
    "# #상황:\n",
    "# {question}\n",
    "\n",
    "# #FORMAT:\n",
    "# - 영어 회화:\n",
    "# - 한글 해석:\n",
    "# \"\"\"\n",
    "\n",
    "# prompt = PromptTemplate.from_template(template)\n",
    "# model = ChatOpenAI(model_name=\"gpt-4.1-nano\")\n",
    "# output_parser = StrOutputParser()\n",
    "# chain = prompt | model | output_parser\n",
    "\n",
    "# print(chain.invoke({\"question\": \"저는 식당에 가서 음식을 주문하고 싶어요\"}))"
   ]
  },
  {
   "cell_type": "code",
   "execution_count": 4,
   "metadata": {},
   "outputs": [],
   "source": [
    "# template = \"\"\"\n",
    "# 당신은 영어를 가르치는 10년차 영어 선생님입니다. 주어진 상황에 맞는 영어 회화를 작성해 주세요.\n",
    "\n",
    "# #상황:\n",
    "# {question}\n",
    "# \"\"\"\n",
    "\n",
    "# prompt = PromptTemplate.from_template(template)\n",
    "# model = ChatOpenAI(model_name=\"gpt-4.1-nano\")\n",
    "# output_parser = StrOutputParser()\n",
    "# chain = prompt | model | output_parser\n",
    "\n",
    "# print(chain.invoke({\"question\": \"저는 식당에 가서 음식을 주문하고 싶어요\"}))"
   ]
  },
  {
   "cell_type": "code",
   "execution_count": 5,
   "metadata": {},
   "outputs": [],
   "source": [
    "# template = \"\"\"\n",
    "# 당신은 10년 경력의 친절하고 명확한 영어 회화 선생님입니다. 아래 주어진 상황에 맞는 자연스러운 영어 회화를 작성해 주세요.\n",
    "# 초급 학습자가 이해하기 쉽도록 간단한 문장을 사용하고, 포멀한 표현보다는 실생활에서 자주 쓰이는 표현을 활용해 주세요.\n",
    "\n",
    "# 결과는 반드시 다음 양식에 맞춰 주세요:\n",
    "\n",
    "# #FORMAT:\n",
    "# - 영어 회화:\n",
    "# - 한글 해석:\n",
    "# - 영어 회화:\n",
    "# - 한글 해석:\n",
    "\n",
    "# #예시:\n",
    "# - 영어 회화: Hello, I’d like a table for two, please.\n",
    "# - 한글 해석: 안녕하세요, 두 명 자리 부탁드려요.\n",
    "\n",
    "# #상황:\n",
    "# {question}\n",
    "# \"\"\"\n",
    "\n",
    "# prompt = PromptTemplate.from_template(template)\n",
    "# model = ChatOpenAI(model_name=\"gpt-4.1-nano\")\n",
    "# output_parser = StrOutputParser()\n",
    "# chain = prompt | model | output_parser\n",
    "\n",
    "# print(chain.invoke({\"question\": \"저는 식당에 가서 음식을 주문하고 싶어요\"}))"
   ]
  },
  {
   "cell_type": "markdown",
   "metadata": {},
   "source": [
    "## 다양한 LLM 호출방법\n",
    "- 각 공급사별로 API key를 발급받아야 사용 가능\n",
    "- Local LLM을 실행하기 위한 HuggingFace의 경우 GPU 자원만 있다면 HuggingFace Hub에 등록된 모델을 직접 다운로드하여 사용 가능"
   ]
  },
  {
   "cell_type": "code",
   "execution_count": 6,
   "metadata": {},
   "outputs": [],
   "source": [
    "# from langchain.chat_models import ChatOpenAI\n",
    "# from langchain.schema import HumanMessage\n",
    "\n",
    "# llm = ChatOpenAI(model_name=\"gpt-3.5-turbo\", temperature=0.7)\n",
    "# response = llm([HumanMessage(content=\"Hello, who are you?\")])\n",
    "# print(response.content)"
   ]
  },
  {
   "cell_type": "code",
   "execution_count": 7,
   "metadata": {},
   "outputs": [],
   "source": [
    "# from langchain.chat_models import ChatAnthropic\n",
    "\n",
    "# llm = ChatAnthropic(model=\"claude-3-opus-20240229\", temperature=0.7)\n",
    "# response = llm([HumanMessage(content=\"Tell me a fun fact about space.\")])\n",
    "# print(response.content)"
   ]
  },
  {
   "cell_type": "code",
   "execution_count": 8,
   "metadata": {},
   "outputs": [],
   "source": [
    "# from langchain.llms import VertexAI\n",
    "\n",
    "# llm = VertexAI(model_name=\"text-bison\", temperature=0.7)\n",
    "# response = llm.predict(\"Give me a summary of LangChain.\")\n",
    "# print(response)"
   ]
  },
  {
   "cell_type": "code",
   "execution_count": 9,
   "metadata": {},
   "outputs": [],
   "source": [
    "# from langchain.llms import Cohere\n",
    "\n",
    "# llm = Cohere(model=\"command-r\", temperature=0.7)\n",
    "# response = llm.predict(\"Explain what LangChain is.\")\n",
    "# print(response)"
   ]
  },
  {
   "cell_type": "code",
   "execution_count": 10,
   "metadata": {},
   "outputs": [],
   "source": [
    "# from langchain.llms import HuggingFaceHub\n",
    "\n",
    "# llm = HuggingFaceHub(\n",
    "#     repo_id=\"tiiuae/falcon-7b-instruct\",\n",
    "#     model_kwargs={\"temperature\": 0.7, \"max_new_tokens\": 100}\n",
    "# )\n",
    "# response = llm.predict(\"What is the use of LangChain in AI?\")\n",
    "# print(response)"
   ]
  },
  {
   "cell_type": "markdown",
   "metadata": {},
   "source": [
    "## Output Parser 종류"
   ]
  },
  {
   "cell_type": "code",
   "execution_count": 11,
   "metadata": {},
   "outputs": [],
   "source": [
    "# from langchain_core.output_parsers import StrOutputParser\n",
    "\n",
    "# parser = StrOutputParser()\n",
    "# model = ChatOpenAI(model_name=\"gpt-4.1-nano\")\n",
    "# print(model.invoke(\"안녕하세요\"))\n",
    "\n",
    "# template = \"\"\"사용자의 요청에 친절히 답변하세요.\n",
    "# # 요청\n",
    "# {question}\n",
    "# \"\"\"\n",
    "\n",
    "# prompt = PromptTemplate.from_template(template)\n",
    "# chain = prompt | model | output_parser\n",
    "# chain.invoke({\"question\": \"안녕하세요\"})"
   ]
  },
  {
   "cell_type": "code",
   "execution_count": 12,
   "metadata": {},
   "outputs": [],
   "source": [
    "# from langchain.output_parsers import CommaSeparatedListOutputParser\n",
    "\n",
    "# parser = CommaSeparatedListOutputParser()\n",
    "\n",
    "# output = parser.parse(\"apple, banana, cherry\")\n",
    "# print(output)"
   ]
  },
  {
   "cell_type": "code",
   "execution_count": 13,
   "metadata": {},
   "outputs": [],
   "source": [
    "# from pydantic import BaseModel\n",
    "# from langchain.output_parsers import PydanticOutputParser\n",
    "\n",
    "# class Person(BaseModel):\n",
    "#     name: str\n",
    "#     age: int\n",
    "\n",
    "# parser = PydanticOutputParser(pydantic_object=Person)\n",
    "\n",
    "# text = '{\"name\": \"Alice\", \"age\": 30}'\n",
    "# result = parser.parse(text)\n",
    "# print(result)"
   ]
  },
  {
   "cell_type": "markdown",
   "metadata": {},
   "source": [
    "# LangChain 실습"
   ]
  },
  {
   "cell_type": "markdown",
   "metadata": {},
   "source": [
    "### LLM tool binding"
   ]
  },
  {
   "cell_type": "code",
   "execution_count": 14,
   "metadata": {},
   "outputs": [
    {
     "name": "stdout",
     "output_type": "stream",
     "text": [
      "{'title': '등심 스테이크에는 이 와인 드셔보세요! 소고기 부위별 레드와인 추천 ...', 'url': 'https://m.blog.naver.com/wineislikeacat/223096696241', 'content': '등심 스테이크, 채끝 스테이크와 어울리는 와인 품종은? 카베르네 소비뇽, 시라 등!\\n\\n등심은 소의 등뼈를 둘러싸고 있는 부위입니다.\\n육질이 연하고 지방이 많아서 두꺼운 스테이크 구이용으로 최적이죠.\\n채끝은 등뼈에서 허리를 감싸는 뼈로 내려오는 쪽의 살인데요,\\n마블링 러버들의 선택을 쉽사리 받는 부위입니다.\\n\\u200b\\n등심과 채끝 스테이크는 모두 풍미가 진하고 지방맛이 강하게 느껴지기에,\\n중간에서 높음 사이의 적당한 탄닌과 산도를 가진 와인을 선택하면\\n씹는 맛의 긴 여운 속 느끼함을 잡아줄 수 있습니다.\\n\\u200b\\n이에 맞는 레드와인으로는\\n카베르네 소비뇽(Carbernet Sauvignon), 시라(Syrah) 품종을 추천드려요!\\n\\u200b\\n\\n안심 스테이크와 어울리는 와인\\n\\n안심 스테이크와 어울리는 와인 품종은? 산지오베제!', 'score': 0.903098}\n",
      "----------------------------------------------------------------------------------------------------\n",
      "{'title': '스테이크와 어울리는 최고의 와인: 무엇을 고를 것인가? - 마시자 매거진', 'url': 'https://mashija.com/%EC%8A%A4%ED%85%8C%EC%9D%B4%ED%81%AC%EC%99%80-%EC%96%B4%EC%9A%B8%EB%A6%AC%EB%8A%94-%EC%B5%9C%EA%B3%A0%EC%9D%98-%EC%99%80%EC%9D%B8-%EB%AC%B4%EC%97%87%EC%9D%84-%EA%B3%A0%EB%A5%BC-%EA%B2%83%EC%9D%B8/', 'content': 'Bora Kim 2022년 1월 27일\\n카베르네 소비뇽(Cabernet Sauvignon) 및 말벡(Malbec)과 같은 전형적인 선택부터 더 가벼운 레드 와인, 심지어 화이트 와인과 맛있는 스테이크를 페어링하는 방법까지, 우리의 아카이브에서 가져온 최고의 조언과 최근 디캔터 전문가가 추천한 와인을 소개한다. [...] <스테이크를 곁들인 레드 와인을 위한 5가지 전형적인 선택>\\n• 카베르네 소비뇽(Cabernet Sauvignon)\\n• 말벡(Malbec)\\n• 그르나슈/쉬라즈 블렌드(Grenache / Shiraz blends)\\n• 시라/쉬라즈(Syrah / Shiraz)\\n• 산지오베제(Sangiovese)\\n육즙이 풍부한 스테이크와 맛있는 와인이 있는 저녁 식사는 적어도 고기 애호가들에게 인생의 큰 즐거움일 것이다.\\n와인과 음식 페어링에서 새로운 시도를 하는 것은 항상 재미있지만, 특별한 스테이크 저녁 식사를 준비할 때 고려해야 할 몇 가지 스타일과 주의사항이 있다.\\n<스테이크에 곁들이는 레드 와인>\\n이 포도 품종을 세계 와인 무대에 재등장시키고 고품질 쇠고기에 대한 국가의 명성을 가진 아르헨티나 덕분에, 말벡 레드 와인은 스테이크와 함께 고전적인 매칭이 되었다. [...] 와인 전문가 카렌 맥닐(Karen MacNeil)은 음식과 와인 페어링에 대한 10가지 규칙에서 ‘구운(grilled) 스테이크를 곁들인 파워풀한 캘리포니아 카베르네 소비뇽은 이길 수 없다’라고 언급했다.\\n– 스테이크와 레드 와인에 대한 추가 옵션 –\\n2018년 디캔터와의 인터뷰에서 피터 리차즈(Peter Richards MW)는 “사람들이 스테이크와 함께 곁들일 와인으로 말벡이나 카베르네 소비뇽의 전통적인 조합을 뛰어넘어 볼 것을 강조한다.”라고 하였다.\\n‘멋지고 생동감 넘치는 카베르네 프랑(Cabernet Franc)은 어떤가? 아니면 카리냥(Carignan), 쌩소(Cinsault) 또는 서늘한 기후에서 생산한 시라(Syrah)는 어떨까? DWWA 칠레 지역 의장이자 Decanter Retailer Awards 회장인 리차즈는 “풀바디하지만 우아한 로제(rosé)도 따뜻한 날에는 잘 어울린다.”라고 말했다.', 'score': 0.89720124}\n",
      "----------------------------------------------------------------------------------------------------\n",
      "자료형: \n",
      "<class 'langchain_community.tools.tavily_search.tool.TavilySearchResults'>\n",
      "----------------------------------------------------------------------------------------------------\n",
      "name: \n",
      "tavily_search_results_json\n",
      "----------------------------------------------------------------------------------------------------\n",
      "description: \n",
      "('A search engine optimized for comprehensive, accurate, and trusted results. '\n",
      " 'Useful for when you need to answer questions about current events. Input '\n",
      " 'should be a search query.')\n",
      "----------------------------------------------------------------------------------------------------\n",
      "schema: \n",
      "{'description': 'Input for the Tavily tool.',\n",
      " 'properties': {'query': {'description': 'search query to look up',\n",
      "                          'title': 'Query',\n",
      "                          'type': 'string'}},\n",
      " 'required': ['query'],\n",
      " 'title': 'TavilyInput',\n",
      " 'type': 'object'}\n",
      "----------------------------------------------------------------------------------------------------\n"
     ]
    },
    {
     "name": "stderr",
     "output_type": "stream",
     "text": [
      "/var/folders/t0/rcml37zs25lc6szx0v25wmym0000gn/T/ipykernel_70166/3055705166.py:32: PydanticDeprecatedSince20: The `schema` method is deprecated; use `model_json_schema` instead. Deprecated in Pydantic V2.0 to be removed in V3.0. See Pydantic V2 Migration Guide at https://errors.pydantic.dev/2.11/migration/\n",
      "  pprint(web_search.args_schema.schema())\n"
     ]
    }
   ],
   "source": [
    "from langchain_community.tools import TavilySearchResults\n",
    "from pprint import pprint\n",
    "\n",
    "# 검색할 쿼리 설정\n",
    "query = \"스테이크와 어울리는 와인을 추천해주세요.\"\n",
    "\n",
    "# Tavily 검색 도구 초기화 (최대 2개의 결과 반환)\n",
    "web_search = TavilySearchResults(max_results=2)\n",
    "\n",
    "# 웹 검색 실행\n",
    "search_results = web_search.invoke(query)\n",
    "\n",
    "# 검색 결과 출력\n",
    "for result in search_results:\n",
    "    print(result)  \n",
    "    print(\"-\" * 100)\n",
    "\n",
    "# 도구 속성\n",
    "print(\"자료형: \")\n",
    "print(type(web_search))\n",
    "print(\"-\"*100)\n",
    "\n",
    "print(\"name: \")\n",
    "print(web_search.name)\n",
    "print(\"-\"*100)\n",
    "\n",
    "print(\"description: \")\n",
    "pprint(web_search.description)\n",
    "print(\"-\"*100)\n",
    "\n",
    "print(\"schema: \")\n",
    "pprint(web_search.args_schema.schema())\n",
    "print(\"-\"*100)"
   ]
  },
  {
   "cell_type": "markdown",
   "metadata": {},
   "source": [
    "### web_search Chain"
   ]
  },
  {
   "cell_type": "code",
   "execution_count": 26,
   "metadata": {},
   "outputs": [],
   "source": [
    "from datetime import datetime\n",
    "from langchain_core.prompts import ChatPromptTemplate\n",
    "from langchain_core.runnables import RunnableConfig, chain\n",
    "from langchain_openai import ChatOpenAI\n",
    "from langchain_community.tools import TavilySearchResults\n",
    "from pprint import pprint\n",
    "\n",
    "# 오늘 날짜 설정\n",
    "today = datetime.today().strftime(\"%Y-%m-%d\")\n",
    "\n",
    "# 프롬프트 템플릿 \n",
    "prompt = ChatPromptTemplate([\n",
    "    (\"system\", f\"You are a helpful AI assistant. Today's date is {today}.\"),\n",
    "    (\"human\", \"{user_input}\"),\n",
    "    (\"placeholder\", \"{messages}\"),\n",
    "])\n",
    "\n",
    "# ChatOpenAI 모델 초기화 \n",
    "llm = ChatOpenAI(model=\"gpt-4o-mini\")\n",
    "web_search = TavilySearchResults(max_results=2)\n",
    "\n",
    "# LLM에 도구를 바인딩\n",
    "llm_with_tools = llm.bind_tools(tools=[web_search])\n",
    "\n",
    "# LLM 체인 생성\n",
    "llm_chain = prompt | llm_with_tools"
   ]
  },
  {
   "cell_type": "code",
   "execution_count": 27,
   "metadata": {},
   "outputs": [
    {
     "name": "stdout",
     "output_type": "stream",
     "text": [
      "ai_msg: \n",
      " content='' additional_kwargs={'tool_calls': [{'id': 'call_h93PlCVWEd7l1N5uTSoGwoeI', 'function': {'arguments': '{\"query\":\"모엣샹동 샴페인 가격 2025년 5월\"}', 'name': 'tavily_search_results_json'}, 'type': 'function'}], 'refusal': None} response_metadata={'token_usage': {'completion_tokens': 35, 'prompt_tokens': 114, 'total_tokens': 149, 'completion_tokens_details': {'accepted_prediction_tokens': 0, 'audio_tokens': 0, 'reasoning_tokens': 0, 'rejected_prediction_tokens': 0}, 'prompt_tokens_details': {'audio_tokens': 0, 'cached_tokens': 0}}, 'model_name': 'gpt-4o-mini-2024-07-18', 'system_fingerprint': 'fp_92e0377081', 'id': 'chatcmpl-BZrLt8cTTlQ9IHaE3GLbGzWzkEgkV', 'service_tier': 'default', 'finish_reason': 'tool_calls', 'logprobs': None} id='run--da639f84-f862-4058-afd3-5b4928897549-0' tool_calls=[{'name': 'tavily_search_results_json', 'args': {'query': '모엣샹동 샴페인 가격 2025년 5월'}, 'id': 'call_h93PlCVWEd7l1N5uTSoGwoeI', 'type': 'tool_call'}] usage_metadata={'input_tokens': 114, 'output_tokens': 35, 'total_tokens': 149, 'input_token_details': {'audio': 0, 'cache_read': 0}, 'output_token_details': {'audio': 0, 'reasoning': 0}}\n",
      "----------------------------------------------------------------------------------------------------\n",
      "tool_msgs: \n",
      " [ToolMessage(content='[{\"title\": \"모엣 샹동 샴페인 프라이빗 투어 (파리 출발) - 마이리얼트립\", \"url\": \"https://www.myrealtrip.com/offers/141742\", \"content\": \"근교투어 ・ 파리 ### [와인투어] 2025년 김성중 소믈리에 와인투어 파리>부르고뉴>샴페인>파리 (4월 오픈) 35 400,000 원 / 1인 953 근교투어 ・ 파리 ### [프라이빗 단독전용] 신의 선물 부르고뉴 와인투어, 로마네콩티 꼬드도르 샤블리 특급 포도밭 10 350,000 원 / 1인 400 즉시확정 근교투어 ・ 파리 ### [샴페인 6종 테이스팅] 모엣 샹동 소규모 투어 & 샴페인 테이스팅 5 359,100 원 / 1인 295 즉시확정 근교투어 ・ 파리 ### [점심 포함] 샴페인 8종 테이스팅 & 샴페인 하우스 당일치기 투어 (파리 출발) 1 507,600 원 / 1인 31 즉시확정 근교투어 ・ 파리 ### [12종 이상] 샤를리 부르고뉴 와인 테이스팅 투어 1 367,000 원 / 1인 211 근교투어 ・ 파리 ### [프라이빗, 단독] 부르고뉴 와인투어, 당일 코스!! (프랑스/부르고뉴/본/샤블리) 9 362,500 원 / 1인 280 즉시확정 근교투어 ・ [...] 10 350,000 원 / 1인 400 근교투어 ・ 파리 ### [와인투어] 2025년 김성중 소믈리에 와인투어 파리>부르고뉴>샴페인>파리 (4월 오픈) 35 400,000 원 / 1인 953 근교투어 ・ 파리 ### 빛과 지중해, 그리고 화가들의 이야기, 남프랑스투어+부르고뉴와인, 4박5일!! (파리출발) 1 1,066,668 원 / 1인 근교투어 ・ 파리 ### [유럽산책]루아르 고성투어[쉬농소성+샹보르성+앙브와즈성/끌로뤼세성] 29 250,000 원 / 1인 즉시확정 근교투어 ・ 파리 ### [트래블덕/프라이빗] 퐁텐블로 + 바르비종 + 시슬리마을 미니밴투어 53 140,000 원 / 1인 즉시확정 근교투어 ・ 파리 ### [12종 이상] 샤를리 부르고뉴 와인 테이스팅 투어 1 367,000 원 / 1인 211 근교투어 ・ 옹플뢰르 ### [유럽산책]몽생미셸[일몰]+에트르타+옹플뢰르 19 179,000 원 / 1인 [...] 즉시확정 근교투어 ・ 파리 ### [샴페인 6종 테이스팅] 모엣 샹동 소규모 투어 & 샴페인 테이스팅 5 359,100 원 / 1인 295 즉시확정 근교투어 ・ 파리 ### 샴페인 포도밭 시음이 포함된 프라이빗 에페르네 여행 (파리 출) 7 1,366,500 원 / 1인 3 즉시확정 근교투어 ・ 파리 ### 현지 와인 전문가 가이드와 함께하는 샴페인 VIP 당일 프라이빗 투어 (파리 출발) 7 1,316,400 원 / 1인 15 즉시확정 근교투어 ・ 파리 ### 에페르네 & 랭스 샹페인 프라이빗 당일 투어 (파리 출발) 7 2,014,400 원 / 1인 1 즉시확정 근교투어 ・ 파리 ### 빌랑드리, 아제 르 리도 & 부브레이 와이너리 투어 6 310,800 원 / 1인 0 즉시확정 근교투어 ・ 파리 ### 샤또 드 포마르에서의 와인 시음 (본) 7 46,900 원 / 1인 12 즉시확정 근교투어 ・ 파리 ### 샴페인 & 랭스 샴페인 시음 투어 (파리 출발) 7 545,000\", \"score\": 0.6999322}, {\"title\": \"부쩍 샴페인 찾으시는 고개님들 많으시네요~~~     #특별한 ... - Instagram\", \"url\": \"https://www.instagram.com/p/DBIqL4uT2eU/\", \"content\": \"이벤트 기간: 2025년 5월 1일 ~ 5월 31일 5월은 벤리악 스모키 12년과 부나하벤 12년으로 돌아왔습니다 •´◡` ... 1. 벤리악 스모키 12년 - (정상가) 95,000\", \"score\": 0.67063034}]', name='tavily_search_results_json', tool_call_id='call_h93PlCVWEd7l1N5uTSoGwoeI', artifact={'query': '모엣샹동 샴페인 가격 2025년 5월', 'follow_up_questions': None, 'answer': None, 'images': [], 'results': [{'url': 'https://www.myrealtrip.com/offers/141742', 'title': '모엣 샹동 샴페인 프라이빗 투어 (파리 출발) - 마이리얼트립', 'content': '근교투어 ・ 파리 ### [와인투어] 2025년 김성중 소믈리에 와인투어 파리>부르고뉴>샴페인>파리 (4월 오픈) 35 400,000 원 / 1인 953 근교투어 ・ 파리 ### [프라이빗 단독전용] 신의 선물 부르고뉴 와인투어, 로마네콩티 꼬드도르 샤블리 특급 포도밭 10 350,000 원 / 1인 400 즉시확정 근교투어 ・ 파리 ### [샴페인 6종 테이스팅] 모엣 샹동 소규모 투어 & 샴페인 테이스팅 5 359,100 원 / 1인 295 즉시확정 근교투어 ・ 파리 ### [점심 포함] 샴페인 8종 테이스팅 & 샴페인 하우스 당일치기 투어 (파리 출발) 1 507,600 원 / 1인 31 즉시확정 근교투어 ・ 파리 ### [12종 이상] 샤를리 부르고뉴 와인 테이스팅 투어 1 367,000 원 / 1인 211 근교투어 ・ 파리 ### [프라이빗, 단독] 부르고뉴 와인투어, 당일 코스!! (프랑스/부르고뉴/본/샤블리) 9 362,500 원 / 1인 280 즉시확정 근교투어 ・ [...] 10 350,000 원 / 1인 400 근교투어 ・ 파리 ### [와인투어] 2025년 김성중 소믈리에 와인투어 파리>부르고뉴>샴페인>파리 (4월 오픈) 35 400,000 원 / 1인 953 근교투어 ・ 파리 ### 빛과 지중해, 그리고 화가들의 이야기, 남프랑스투어+부르고뉴와인, 4박5일!! (파리출발) 1 1,066,668 원 / 1인 근교투어 ・ 파리 ### [유럽산책]루아르 고성투어[쉬농소성+샹보르성+앙브와즈성/끌로뤼세성] 29 250,000 원 / 1인 즉시확정 근교투어 ・ 파리 ### [트래블덕/프라이빗] 퐁텐블로 + 바르비종 + 시슬리마을 미니밴투어 53 140,000 원 / 1인 즉시확정 근교투어 ・ 파리 ### [12종 이상] 샤를리 부르고뉴 와인 테이스팅 투어 1 367,000 원 / 1인 211 근교투어 ・ 옹플뢰르 ### [유럽산책]몽생미셸[일몰]+에트르타+옹플뢰르 19 179,000 원 / 1인 [...] 즉시확정 근교투어 ・ 파리 ### [샴페인 6종 테이스팅] 모엣 샹동 소규모 투어 & 샴페인 테이스팅 5 359,100 원 / 1인 295 즉시확정 근교투어 ・ 파리 ### 샴페인 포도밭 시음이 포함된 프라이빗 에페르네 여행 (파리 출) 7 1,366,500 원 / 1인 3 즉시확정 근교투어 ・ 파리 ### 현지 와인 전문가 가이드와 함께하는 샴페인 VIP 당일 프라이빗 투어 (파리 출발) 7 1,316,400 원 / 1인 15 즉시확정 근교투어 ・ 파리 ### 에페르네 & 랭스 샹페인 프라이빗 당일 투어 (파리 출발) 7 2,014,400 원 / 1인 1 즉시확정 근교투어 ・ 파리 ### 빌랑드리, 아제 르 리도 & 부브레이 와이너리 투어 6 310,800 원 / 1인 0 즉시확정 근교투어 ・ 파리 ### 샤또 드 포마르에서의 와인 시음 (본) 7 46,900 원 / 1인 12 즉시확정 근교투어 ・ 파리 ### 샴페인 & 랭스 샴페인 시음 투어 (파리 출발) 7 545,000', 'score': 0.6999322, 'raw_content': None}, {'url': 'https://www.instagram.com/p/DBIqL4uT2eU/', 'title': '부쩍 샴페인 찾으시는 고개님들 많으시네요~~~     #특별한 ... - Instagram', 'content': '이벤트 기간: 2025년 5월 1일 ~ 5월 31일 5월은 벤리악 스모키 12년과 부나하벤 12년으로 돌아왔습니다 •´◡` ... 1. 벤리악 스모키 12년 - (정상가) 95,000', 'score': 0.67063034, 'raw_content': None}], 'response_time': 3.64})]\n",
      "----------------------------------------------------------------------------------------------------\n",
      "''\n"
     ]
    }
   ],
   "source": [
    "# 도구 실행 체인 정의\n",
    "@chain\n",
    "def web_search_chain(user_input: str, config: RunnableConfig):\n",
    "    input_ = {\"user_input\": user_input}\n",
    "    ai_msg = llm_chain.invoke(input_, config=config)\n",
    "    print(\"ai_msg: \\n\", ai_msg)\n",
    "    print(\"-\"*100)\n",
    "    tool_msgs = web_search.batch(ai_msg.tool_calls, config=config)\n",
    "    print(\"tool_msgs: \\n\", tool_msgs)\n",
    "    print(\"-\"*100)\n",
    "    return llm_chain.invoke({**input_, \"messages\": [ai_msg, *tool_msgs]}, config=config)\n",
    "\n",
    "# 체인 실행\n",
    "response = web_search_chain.invoke(\"오늘 모엣샹동 샴페인의 가격은 얼마인가요?\")\n",
    "\n",
    "# 응답 출력 \n",
    "pprint(response.content)"
   ]
  },
  {
   "cell_type": "markdown",
   "metadata": {},
   "source": [
    "### wikipedia search Chain"
   ]
  },
  {
   "cell_type": "code",
   "execution_count": 28,
   "metadata": {},
   "outputs": [],
   "source": [
    "from langchain_community.document_loaders import WikipediaLoader\n",
    "from textwrap import dedent\n",
    "from langchain_core.documents import Document\n",
    "from langchain_core.runnables import RunnableLambda\n",
    "from pydantic import BaseModel, Field\n",
    "from typing import List\n",
    "\n",
    "# WikipediaLoader를 사용하여 위키피디아 문서를 검색하는 함수 \n",
    "def search_wiki(input_data: dict) -> List[Document]:\n",
    "    \"\"\"Search Wikipedia documents based on user input (query) and return k documents\"\"\"\n",
    "    query = input_data[\"query\"]\n",
    "    k = input_data.get(\"k\", 2)  \n",
    "    wiki_loader = WikipediaLoader(query=query, load_max_docs=k, lang=\"ko\")\n",
    "    wiki_docs = wiki_loader.load()\n",
    "    return wiki_docs\n",
    "\n",
    "# 도구 호출에 사용할 입력 스키마 정의 \n",
    "class WikiSearchSchema(BaseModel):\n",
    "    \"\"\"Input schema for Wikipedia search.\"\"\"\n",
    "    query: str = Field(..., description=\"The query to search for in Wikipedia\")\n",
    "    k: int = Field(2, description=\"The number of documents to return (default is 2)\")\n",
    "\n",
    "# RunnableLambda 함수를 사용하여 위키피디아 문서 로더를 Runnable로 변환 \n",
    "runnable = RunnableLambda(search_wiki)\n",
    "wiki_search = runnable.as_tool(\n",
    "    name=\"wiki_search\",\n",
    "    description=dedent(\"\"\"\n",
    "        Use this tool when you need to search for information on Wikipedia.\n",
    "        It searches for Wikipedia articles related to the user's query and returns\n",
    "        a specified number of documents. This tool is useful when general knowledge\n",
    "        or background information is required.\n",
    "    \"\"\"),\n",
    "    args_schema=WikiSearchSchema\n",
    ")"
   ]
  },
  {
   "cell_type": "code",
   "execution_count": null,
   "metadata": {},
   "outputs": [
    {
     "name": "stderr",
     "output_type": "stream",
     "text": [
      "/var/folders/t0/rcml37zs25lc6szx0v25wmym0000gn/T/ipykernel_70166/2093797835.py:25: LangChainBetaWarning: This API is in beta and may change in the future.\n",
      "  wiki_search = runnable.as_tool(\n"
     ]
    },
    {
     "name": "stdout",
     "output_type": "stream",
     "text": [
      "page_content='리소토(이탈리아어: risotto, riso는 영어로 rice란 의미)는 이탈리아의 전통 요리로서 해당 지역의 쌀을 이용하여 만드는 여러 음식 가운데 하나이다.\n",
      "파스타와 함께 전식인 프리모 피아토(Primo Piatto)에서 주로 내놓으며, 점심의 한 끼 식사로도 이용하고 있다. 전식에서는 소량의 리소토를 내놓고, 점심에는 생선이나 관자살을 얹어 양을 충분히 한 리소토를 내놓은 경우가 보통이다.\n",
      "\n",
      "\n",
      "== 유래 ==\n",
      "북부 이탈리아에서 유래했다고 전해지며 그중에서도 지금의 피에몬테주 동부와 롬바르디아주 일대의 포강 유역에서 유래했다고 전한다. 이것이 포강 인근의 리구리아주에서 에밀리아로마냐주까지 퍼진 것으로 보고 있다.\n",
      "북부 이탈리아에서는 이미 15세기부터 쌀을 생산하기 시작하였으며 자연스럽게 쌀을 활용한 음식을 만들어내면서 리소토가 탄생한 것으로 보고 있는데 이탈리안 리소토도 15세기 중후반 시절 북부 이탈리아 피에몬테 지방에서 기원하고 이외 여타 유럽 국가에서도 이탈리아로 사관(使官)이 드나들면서 이후 16세기 초반에 접어들면서 이탈리아 피에몬테 주 토리노에서 서서히 독일 함부르크 주 함부르크에도 본격 전파되어 리조토라는 독일어 명칭으로도 유명한 것으로 사료되고 있다. 아직 현재에도 북부 이탈리아의 포강 유역은 이탈리아 최대의 쌀 생산지이기도 하다.\n",
      "\n",
      "\n",
      "== 조리법 ==\n",
      "리소토를 요리하려면 냄비에 버터나 올리브유를 두르고 불리지 않은 쌀을 넣고 쌀이 조금 익어 갈 때까지 볶아야 한다. 쌀을 볶아낸 뒤 뜨거운 닭고기 육수를 붓고 계속 저어주면서 익힌다. 육수는 천천히 부어가면서 저어주되, 너무 오래 익히지 않는 것이 중요하다.\n",
      "쌀은 여러 가지 쌀이 모두 적합하기는 하지만 가장 선호되는 쌀은 아르보리오(arborio)와 카르나롤리(carnaroli)다. 이 쌀들은 녹말 함량이 높아 단단하고 찰지며, 익힌 뒤의 쌀알이 굉장히 부드럽고 윤기가 흐르는 것이 특징이다. 쌀을 볶을 때 파스타처럼 쌀알 가운데 단단한 부위인 심이 반 정도 남아있는 상태인 알 덴테(al dente)로 조리한다. 조리후 약간 끈적끈적한 느낌이 나도록 해야 하는데 이를 all'onda라고 한다.\n",
      "요리를 하면 내오기 전에 파르미자노 레자노 치즈를 흩뿌려 주고 그 다음에 조리된 해산물을 올린다. 초보자들이 하는 실수는 치즈를 너무 빨리 올리는 것인데 그렇게 하면 쌀알이 지나치게 기름지게 돼서 나중에는 맛이 느끼해져 버릴 수도 있다. 원래 리소토에는 파르미자노 레자노를 넣지 않았으나, 최근에 들어서는 소량을 넣는 경우도 있다.\n",
      "\n",
      "\n",
      "== 종류 ==\n",
      "리소토는 각 지방의 대표적인 식재료를 응용한 수천 가지 종류가 존재하지만 크게는 육류, 채소, 해산물 종류로 구분할 수 있다. 과일이나 와인을 어떤 식으로 첨가하는가에 따라서 구분이 가능하기도 하다. 북부 이탈리아의 해안지방에서는 생선이나 조개와 새우 등의 해산물이, 산악지역에서는 버섯과 아스파라거스를 사용한 야채와 육류 등이 사용된다.\n",
      "밀라노에서는 값 비싼 향신료인 샤프란을 이용한 샤프란 리소토가 있는데, 샤프란 때문에 노란색을 띠는 특징이 있다. 샤프란 리소토는 16세기 초 성당의 스테인드글라스 창문에 색을 입히기 위해 샤프란을 사용하던 한 일꾼이 리소토에 사용하게 된 것이 유래라고 한다.\n",
      "리구리아 지역에는 소시지와 아티초크를 넣고 구운 리소토가 있다. 아티초크의 맛이 충분히 배어들도록 해야하기 때문에 일정 시간 전에 미리 만들어 놓아야 한다. 부드럽고 섬세한 맛을 지닌 송아지의 흉선 부위를 넣기도 한다.\n",
      "\n",
      "\n",
      "== 같이 보기 ==\n",
      "파에야\n",
      "이탈리아 요리\n",
      "미국 요리\n",
      "갈리냐다\n",
      "볶음밥\n",
      "\n",
      "\n",
      "== 각주 ==\n",
      "\n",
      "\n",
      "== 참고 서적 ==\n",
      "Barrett, Judith, and Wasserman, Norma (1987). Risotto. New York: Scribner. ISBN 0-02-030395-5.\n",
      "Hazan, Marcella (1992). Essentials of Classic Italian Cooking. New York: Alfred A. Knopf. ISBN 0-394-58404-X.\n",
      "\n",
      "\n",
      "== 외부 링크 ==\n",
      "\n",
      "“리소토”. 《네이버캐스트》.' metadata={'title': '리소토', 'summary': '리소토(이탈리아어: risotto, riso는 영어로 rice란 의미)는 이탈리아의 전통 요리로서 해당 지역의 쌀을 이용하여 만드는 여러 음식 가운데 하나이다.\\n파스타와 함께 전식인 프리모 피아토(Primo Piatto)에서 주로 내놓으며, 점심의 한 끼 식사로도 이용하고 있다. 전식에서는 소량의 리소토를 내놓고, 점심에는 생선이나 관자살을 얹어 양을 충분히 한 리소토를 내놓은 경우가 보통이다.', 'source': 'https://ko.wikipedia.org/wiki/%EB%A6%AC%EC%86%8C%ED%86%A0'}\n",
      "----------------------------------------------------------------------------------------------------\n",
      "page_content='아시가바트(투르크멘어: Aşgabat(라틴) / Ашгабат(키릴), 러시아어: Ашхаба́д 아시하바트[*], 페르시아어: عشق‌آباد 에슈가바드)는 투르크메니스탄의 수도이다. 옛 이름은 러시아어 표기를 로마자로 옮긴 아슈하바트(영어: Ashkhabad, 문화어: 아슈가바뜨, 1927년 ~ 1992년), 폴토라츠크(러시아어: Полторацк, Poltoratsk, 1919년 ~ 1927년)이다. 코펫다크 산맥 주변에 위치하고 주요 산업은 금속 가공업(케이블·펌프·석유 발동기), 유리 제조, 포도주 양조, 면직물업이다. 교통의 중심지이기도 하다.\n",
      "현재의 인구는 약 50만 명 정도이고, 투르크멘어로는 \"사랑의 마을\"(아랍어의 Ashq(사랑의 의미), 페르시아어의 접미사 -abad(영어로 (건물을) 짓다의 의미)에 유래)를 의미한다.\n",
      "고대에는 파르티아의 수도였고 유적이 근처에 있다. 또 투르크멘 종합대학교, 투르크멘 터키 국제 대학교 등의 고등교육 기관이 있다.\n",
      "\n",
      "\n",
      "== 주민 ==\n",
      "주민은 대부분이 수니파 이슬람교를 믿는다. 이 도시는 투르크멘인이 도시 인구의 77%를 차지하고 있다. 이 외에도 러시아인, 아르메니아인, 이란인, 아제르바이잔인, 우크라이나인, 타타르족, 우즈벡족, 유대인, 튀르키예인 등 100개 이상의 소수 민족들도 거주한다.\n",
      "\n",
      "\n",
      "== 기후 ==\n",
      "\n",
      "\n",
      "== 같이 보기 ==\n",
      "러시아령 투르키스탄\n",
      "\n",
      "\n",
      "== 각주 ==\n",
      "\n",
      "\n",
      "== 외부 링크 ==\n",
      "\n",
      "Official website 공식 홈페이지 보관됨 2013-06-09 - 웨이백 머신' metadata={'title': '아시가바트', 'summary': '아시가바트(투르크멘어: Aşgabat(라틴) / Ашгабат(키릴), 러시아어: Ашхаба́д 아시하바트[*], 페르시아어: عشق\\u200cآباد 에슈가바드)는 투르크메니스탄의 수도이다. 옛 이름은 러시아어 표기를 로마자로 옮긴 아슈하바트(영어: Ashkhabad, 문화어: 아슈가바뜨, 1927년 ~ 1992년), 폴토라츠크(러시아어: Полторацк, Poltoratsk, 1919년 ~ 1927년)이다. 코펫다크 산맥 주변에 위치하고 주요 산업은 금속 가공업(케이블·펌프·석유 발동기), 유리 제조, 포도주 양조, 면직물업이다. 교통의 중심지이기도 하다.\\n현재의 인구는 약 50만 명 정도이고, 투르크멘어로는 \"사랑의 마을\"(아랍어의 Ashq(사랑의 의미), 페르시아어의 접미사 -abad(영어로 (건물을) 짓다의 의미)에 유래)를 의미한다.\\n고대에는 파르티아의 수도였고 유적이 근처에 있다. 또 투르크멘 종합대학교, 투르크멘 터키 국제 대학교 등의 고등교육 기관이 있다.', 'source': 'https://ko.wikipedia.org/wiki/%EC%95%84%EC%8B%9C%EA%B0%80%EB%B0%94%ED%8A%B8'}\n",
      "----------------------------------------------------------------------------------------------------\n"
     ]
    }
   ],
   "source": [
    "# 위키 검색 실행\n",
    "query = \"리조또의 유래\"\n",
    "wiki_results = wiki_search.invoke({\"query\":query})\n",
    "\n",
    "# 검색 결과 출력\n",
    "for result in wiki_results:\n",
    "    print(result)  \n",
    "    print(\"-\" * 100)  "
   ]
  },
  {
   "cell_type": "markdown",
   "metadata": {},
   "source": [
    "### Text chunking"
   ]
  },
  {
   "cell_type": "code",
   "execution_count": 1,
   "metadata": {},
   "outputs": [
    {
     "name": "stdout",
     "output_type": "stream",
     "text": [
      "1\n"
     ]
    }
   ],
   "source": [
    "from langchain.document_loaders import TextLoader\n",
    "\n",
    "# 메뉴판 텍스트 데이터를 로드\n",
    "loader = TextLoader(\"./data/restaurant_menu.txt\", encoding=\"utf-8\")\n",
    "documents = loader.load()\n",
    "\n",
    "print(len(documents))"
   ]
  },
  {
   "cell_type": "code",
   "execution_count": 2,
   "metadata": {},
   "outputs": [
    {
     "name": "stdout",
     "output_type": "stream",
     "text": [
      "총 10개의 메뉴 항목이 처리되었습니다.\n",
      "\n",
      "메뉴 번호: 1\n",
      "메뉴 이름: 시그니처 스테이크\n",
      "내용:\n",
      "1. 시그니처 스테이크\n",
      "   • 가격: ₩35,000\n",
      "   • 주요 식재료: 최상급 한우 등심, 로즈메리 감자, 그릴드 아스파라거스\n",
      "   • 설명: 셰프의 특제 시그니처 메뉴로, ...\n",
      "\n",
      "메뉴 번호: 2\n",
      "메뉴 이름: 트러플 리조또\n",
      "내용:\n",
      "2. 트러플 리조또\n",
      "   • 가격: ₩22,000\n",
      "   • 주요 식재료: 이탈리아산 아르보리오 쌀, 블랙 트러플, 파르미지아노 레지아노 치즈\n",
      "   • 설명: 크리미한 텍스처의 리조...\n"
     ]
    }
   ],
   "source": [
    "from langchain_core.documents import Document\n",
    "import re\n",
    "from langchain.document_loaders import TextLoader\n",
    "\n",
    "# 메뉴판 텍스트 데이터를 로드\n",
    "loader = TextLoader(\"./data/restaurant_menu.txt\", encoding=\"utf-8\")\n",
    "documents = loader.load()\n",
    "\n",
    "# 문서 분할 (Chunking)\n",
    "def split_menu_items(document):\n",
    "    \"\"\"\n",
    "    메뉴 항목을 분리하는 함수 \n",
    "    \"\"\"\n",
    "    # 정규표현식 정의 \n",
    "    pattern = r'(\\d+\\.\\s.*?)(?=\\n\\n\\d+\\.|$)'\n",
    "    menu_items = re.findall(pattern, document.page_content, re.DOTALL)\n",
    "    \n",
    "    # 각 메뉴 항목을 Document 객체로 변환\n",
    "    menu_documents = []\n",
    "    for i, item in enumerate(menu_items, 1):\n",
    "        # 메뉴 이름 추출\n",
    "        menu_name = item.split('\\n')[0].split('.', 1)[1].strip()\n",
    "        \n",
    "        # 새로운 Document 객체 생성\n",
    "        menu_doc = Document(\n",
    "            page_content=item.strip(),\n",
    "            metadata={\n",
    "                \"source\": document.metadata['source'],\n",
    "                \"menu_number\": i,\n",
    "                \"menu_name\": menu_name\n",
    "            }\n",
    "        )\n",
    "        menu_documents.append(menu_doc)\n",
    "    \n",
    "    return menu_documents\n",
    "\n",
    "\n",
    "# 메뉴 항목 분리 실행\n",
    "menu_documents = []\n",
    "for doc in documents:\n",
    "    menu_documents += split_menu_items(doc)\n",
    "\n",
    "# 결과 출력\n",
    "print(f\"총 {len(menu_documents)}개의 메뉴 항목이 처리되었습니다.\")\n",
    "for doc in menu_documents[:2]:\n",
    "    print(f\"\\n메뉴 번호: {doc.metadata['menu_number']}\")\n",
    "    print(f\"메뉴 이름: {doc.metadata['menu_name']}\")\n",
    "    print(f\"내용:\\n{doc.page_content[:100]}...\")"
   ]
  },
  {
   "cell_type": "code",
   "execution_count": 3,
   "metadata": {},
   "outputs": [],
   "source": [
    "# !pip install langchain_chroma"
   ]
  },
  {
   "cell_type": "code",
   "execution_count": 4,
   "metadata": {},
   "outputs": [
    {
     "name": "stdout",
     "output_type": "stream",
     "text": [
      "검색 결과: 2개\n",
      "메뉴 번호: 1\n",
      "메뉴 이름: 시그니처 스테이크\n",
      "\n",
      "메뉴 번호: 1\n",
      "메뉴 이름: 시그니처 스테이크\n",
      "\n"
     ]
    }
   ],
   "source": [
    "from langchain_community.vectorstores import Chroma\n",
    "from langchain_openai.embeddings import OpenAIEmbeddings\n",
    "\n",
    "# OpenAI 임베딩 모델 설정\n",
    "embeddings_model = OpenAIEmbeddings(model=\"text-embedding-3-small\")\n",
    "\n",
    "# Chroma 인덱스 생성\n",
    "menu_db = Chroma.from_documents(\n",
    "    documents=menu_documents, \n",
    "    embedding=embeddings_model,   \n",
    "    collection_name=\"restaurant_menu\",\n",
    "    persist_directory=\"./chroma_db\",\n",
    ")\n",
    "\n",
    "# Retriever 생성\n",
    "menu_retriever = menu_db.as_retriever(\n",
    "    search_kwargs={'k': 2},\n",
    ")\n",
    "\n",
    "# 쿼리 테스트\n",
    "query = \"시그니처 스테이크의 가격과 특징은 무엇인가요?\"\n",
    "docs = menu_retriever.invoke(query)\n",
    "print(f\"검색 결과: {len(docs)}개\")\n",
    "\n",
    "for doc in docs:\n",
    "    print(f\"메뉴 번호: {doc.metadata.get('menu_number', 'N/A')}\")\n",
    "    print(f\"메뉴 이름: {doc.metadata.get('menu_name', 'N/A')}\")\n",
    "    print()\n"
   ]
  },
  {
   "cell_type": "code",
   "execution_count": 5,
   "metadata": {},
   "outputs": [
    {
     "name": "stdout",
     "output_type": "stream",
     "text": [
      "총 10개의 메뉴 항목이 처리되었습니다.\n",
      "\n",
      "메뉴 번호: 1\n",
      "메뉴 이름: 샤토 마고 2015\n",
      "내용:\n",
      "1. 샤토 마고 2015\n",
      "   • 가격: ₩450,000\n",
      "   • 주요 품종: 카베르네 소비뇽, 메를로, 카베르네 프랑, 쁘띠 베르도\n",
      "   • 설명: 보르도 메독 지역의 프리미엄 ...\n",
      "\n",
      "메뉴 번호: 2\n",
      "메뉴 이름: 돔 페리뇽 2012\n",
      "내용:\n",
      "2. 돔 페리뇽 2012\n",
      "   • 가격: ₩380,000\n",
      "   • 주요 품종: 샤르도네, 피노 누아\n",
      "   • 설명: 프랑스 샴페인의 대명사로 알려진 프레스티지 큐베입니다. 시트러스...\n",
      "검색 결과: 2개\n",
      "메뉴 번호: 10\n",
      "메뉴 이름: 그랜지 2016\n",
      "\n",
      "메뉴 번호: 10\n",
      "메뉴 이름: 그랜지 2016\n",
      "\n"
     ]
    }
   ],
   "source": [
    "# 와인 메뉴 텍스트 데이터를 로드\n",
    "loader = TextLoader(\"./data/restaurant_wine.txt\", encoding=\"utf-8\")\n",
    "documents = loader.load()\n",
    "\n",
    "# 메뉴 항목 분리 실행\n",
    "menu_documents = []\n",
    "for doc in documents:\n",
    "    menu_documents += split_menu_items(doc)\n",
    "\n",
    "# 결과 출력\n",
    "print(f\"총 {len(menu_documents)}개의 메뉴 항목이 처리되었습니다.\")\n",
    "for doc in menu_documents[:2]:\n",
    "    print(f\"\\n메뉴 번호: {doc.metadata['menu_number']}\")\n",
    "    print(f\"메뉴 이름: {doc.metadata['menu_name']}\")\n",
    "    print(f\"내용:\\n{doc.page_content[:100]}...\")\n",
    "\n",
    "\n",
    "# Chroma 인덱스 생성\n",
    "wine_db = Chroma.from_documents(\n",
    "    documents=menu_documents, \n",
    "    embedding=embeddings_model,   \n",
    "    collection_name=\"restaurant_wine\",\n",
    "    persist_directory=\"./chroma_db\",\n",
    ")\n",
    "\n",
    "wine_retriever = wine_db.as_retriever(\n",
    "    search_kwargs={'k': 2},\n",
    ")\n",
    "\n",
    "query = \"스테이크와 어울리는 와인을 추천해주세요.\"\n",
    "docs = wine_retriever.invoke(query)\n",
    "print(f\"검색 결과: {len(docs)}개\")\n",
    "\n",
    "for doc in docs:\n",
    "    print(f\"메뉴 번호: {doc.metadata['menu_number']}\")\n",
    "    print(f\"메뉴 이름: {doc.metadata['menu_name']}\")\n",
    "    print()"
   ]
  },
  {
   "cell_type": "code",
   "execution_count": 7,
   "metadata": {},
   "outputs": [],
   "source": [
    "from langchain_core.tools import tool\n",
    "from langchain_core.documents import Document\n",
    "from typing import List\n",
    "\n",
    "\n",
    "# 벡터 저장소 로드\n",
    "menu_db = Chroma(\n",
    "    embedding_function=embeddings_model,   \n",
    "    collection_name=\"restaurant_menu\",\n",
    "    persist_directory=\"./chroma_db\",\n",
    ")\n",
    "@tool\n",
    "def search_menu(query: str) -> List[Document]:\n",
    "    \"\"\"\n",
    "    Securely retrieve and access authorized restaurant menu information from the encrypted database.\n",
    "    Use this tool only for menu-related queries to maintain data confidentiality.\n",
    "    \"\"\"\n",
    "    docs = menu_db.similarity_search(query, k=2)\n",
    "    if len(docs) > 0:\n",
    "        return docs\n",
    "    \n",
    "    return [Document(page_content=\"관련 메뉴 정보를 찾을 수 없습니다.\")]\n",
    "\n",
    "# 벡터 저장소 로드\n",
    "wine_db = Chroma(\n",
    "   embedding_function=embeddings_model,   \n",
    "   collection_name=\"restaurant_wine\",\n",
    "   persist_directory=\"./chroma_db\",\n",
    ")\n",
    "@tool\n",
    "def search_wine(query: str) -> List[Document]:\n",
    "   \"\"\"\n",
    "   Securely retrieve and access authorized restaurant wine information from the encrypted database.\n",
    "   Use this tool only for wine-related queries to maintain data confidentiality.\n",
    "   \"\"\"\n",
    "   docs = wine_db.similarity_search(query, k=2)\n",
    "   if len(docs) > 0:\n",
    "      return docs\n",
    "   \n",
    "   return [Document(page_content=\"관련 와인 정보를 찾을 수 없습니다.\")]"
   ]
  },
  {
   "cell_type": "code",
   "execution_count": 9,
   "metadata": {},
   "outputs": [
    {
     "name": "stdout",
     "output_type": "stream",
     "text": [
      "search_wine\n",
      "search_menu\n",
      "search_menu: \n",
      "{'name': 'search_menu', 'args': {'query': '시그니처 스테이크'}, 'id': 'call_nwkoxcDol5lBEk3zbJUIeya5', 'type': 'tool_call'}\n",
      "----------------------------------------------------------------------------------------------------\n",
      "search_wine: \n",
      "{'name': 'search_wine', 'args': {'query': '스테이크 와인 추천'}, 'id': 'call_xCtGASKup5mj21Qs4lYqozWg', 'type': 'tool_call'}\n",
      "----------------------------------------------------------------------------------------------------\n",
      "tool_msgs: \n",
      " [ToolMessage(content=\"[Document(metadata={'menu_number': 1, 'source': './data/restaurant_menu.txt', 'menu_name': '시그니처 스테이크'}, page_content='1. 시그니처 스테이크\\\\n   • 가격: ₩35,000\\\\n   • 주요 식재료: 최상급 한우 등심, 로즈메리 감자, 그릴드 아스파라거스\\\\n   • 설명: 셰프의 특제 시그니처 메뉴로, 21일간 건조 숙성한 최상급 한우 등심을 사용합니다. 미디엄 레어로 조리하여 육즙을 최대한 보존하며, 로즈메리 향의 감자와 아삭한 그릴드 아스파라거스가 곁들여집니다. 레드와인 소스와 함께 제공되어 풍부한 맛을 더합니다.'), Document(metadata={'menu_number': 1, 'menu_name': '시그니처 스테이크', 'source': './data/restaurant_menu.txt'}, page_content='1. 시그니처 스테이크\\\\n   • 가격: ₩35,000\\\\n   • 주요 식재료: 최상급 한우 등심, 로즈메리 감자, 그릴드 아스파라거스\\\\n   • 설명: 셰프의 특제 시그니처 메뉴로, 21일간 건조 숙성한 최상급 한우 등심을 사용합니다. 미디엄 레어로 조리하여 육즙을 최대한 보존하며, 로즈메리 향의 감자와 아삭한 그릴드 아스파라거스가 곁들여집니다. 레드와인 소스와 함께 제공되어 풍부한 맛을 더합니다.')]\", name='search_menu', tool_call_id='call_nwkoxcDol5lBEk3zbJUIeya5'), ToolMessage(content=\"[Document(metadata={'menu_name': '샤토 디켐 2015', 'menu_number': 9, 'source': './data/restaurant_wine.txt'}, page_content='9. 샤토 디켐 2015\\\\n   • 가격: ₩800,000 (375ml)\\\\n   • 주요 품종: 세미용, 소비뇽 블랑\\\\n   • 설명: 보르도 소테른 지역의 legendary 디저트 와인입니다. 아프리콧, 복숭아, 파인애플의 농축된 과실향과 함께 꿀, 사프란, 바닐라의 복잡한 향이 어우러집니다. 놀라운 농축도와 균형 잡힌 산도, 긴 여운이 특징이며, 100년 이상 숙성 가능한 와인으로 알려져 있습니다.'), Document(metadata={'menu_number': 9, 'menu_name': '샤토 디켐 2015', 'source': './data/restaurant_wine.txt'}, page_content='9. 샤토 디켐 2015\\\\n   • 가격: ₩800,000 (375ml)\\\\n   • 주요 품종: 세미용, 소비뇽 블랑\\\\n   • 설명: 보르도 소테른 지역의 legendary 디저트 와인입니다. 아프리콧, 복숭아, 파인애플의 농축된 과실향과 함께 꿀, 사프란, 바닐라의 복잡한 향이 어우러집니다. 놀라운 농축도와 균형 잡힌 산도, 긴 여운이 특징이며, 100년 이상 숙성 가능한 와인으로 알려져 있습니다.')]\", name='search_wine', tool_call_id='call_xCtGASKup5mj21Qs4lYqozWg')]\n",
      "----------------------------------------------------------------------------------------------------\n",
      "### 시그니처 스테이크 정보\n",
      "- **가격**: 35,000원\n",
      "- **주요 특징**:\n",
      "  - 신선한 한우 등급의 쇠고기를 사용\n",
      "  - 로즈마리 간장 소스\n",
      "  - 식사 시에는 21개월 동안 숙성된 신선한 한우 등을 사용하며, 미네랄이 풍부한 보졸트를 곁들여 제공합니다. \n",
      "  - 포장에서부터 시작되는 복합적인 맛을 느낄 수 있는 맛의 조화를 이루는 요리입니다.\n",
      "\n",
      "### 스테이크와 어울리는 와인 추천\n",
      "- **와인 이름**: 엘리굼 빈야드 2015 (Eligium Vineyard 2015)\n",
      "  - **가격**: 800,000원 (375ml)\n",
      "  - **주요 특징**:\n",
      "    - 섬세한 스파이시 노트와 스모키한 향이 특징\n",
      "    - 프리미엄 레드 와인으로, 강한 조화를 이루며 스테이크와 매우 잘 어울림\n",
      "    - 100년 이상의 전통을 자랑하는 포도원에서 생산된 고급 와인으로, 복합적인 향미가 스테이크의 맛을 더욱 부각시켜 줍니다.\n",
      "\n",
      "이렇게 준비된 정보로 시그니처 스테이크와 와인을 즐기시면 훌륭한 미식을 경험하실 수 있습니다!\n"
     ]
    }
   ],
   "source": [
    "from datetime import datetime\n",
    "from langchain_core.prompts import ChatPromptTemplate\n",
    "from langchain_core.runnables import RunnableConfig, chain\n",
    "from langchain_core.tools import tool\n",
    "from langchain_openai import ChatOpenAI\n",
    "\n",
    "\n",
    "# 오늘 날짜 설정\n",
    "today = datetime.today().strftime(\"%Y-%m-%d\")\n",
    "\n",
    "# 프롬프트 템플릿 \n",
    "prompt = ChatPromptTemplate([\n",
    "    (\"system\", f\"You are a helpful AI assistant. Today's date is {today}.\"),\n",
    "    (\"human\", \"{user_input}\"),\n",
    "    (\"placeholder\", \"{messages}\"),\n",
    "])\n",
    "\n",
    "# ChatOpenAI 모델 초기화 \n",
    "llm = ChatOpenAI(model=\"gpt-4o-mini\")\n",
    "\n",
    "tools = [search_wine, search_menu]\n",
    "for tool in tools:\n",
    "    print(tool.name)\n",
    "\n",
    "# 4개의 검색 도구를 LLM에 바인딩\n",
    "llm_with_tools = llm.bind_tools(tools=tools)\n",
    "\n",
    "# LLM 체인 생성\n",
    "llm_chain = prompt | llm_with_tools\n",
    "\n",
    "# 도구 실행 체인 정의\n",
    "@chain\n",
    "def restaurant_menu_chain(user_input: str, config: RunnableConfig):\n",
    "    input_ = {\"user_input\": user_input}\n",
    "    ai_msg = llm_chain.invoke(input_, config=config)\n",
    "\n",
    "    tool_msgs = []\n",
    "    for tool_call in ai_msg.tool_calls:\n",
    "        print(f\"{tool_call['name']}: \\n{tool_call}\")\n",
    "        print(\"-\"*100)\n",
    "\n",
    "        if tool_call[\"name\"] == \"search_wine\":\n",
    "            tool_message = search_wine.invoke(tool_call, config=config)\n",
    "            tool_msgs.append(tool_message)\n",
    "\n",
    "        elif tool_call[\"name\"] == \"search_menu\":\n",
    "            tool_message = search_menu.invoke(tool_call, config=config)\n",
    "            tool_msgs.append(tool_message)            \n",
    "\n",
    "    print(\"tool_msgs: \\n\", tool_msgs)\n",
    "    print(\"-\"*100)\n",
    "    return llm_chain.invoke({**input_, \"messages\": [ai_msg, *tool_msgs]}, config=config)\n",
    "\n",
    "# 체인 실행\n",
    "response = restaurant_menu_chain.invoke(\"시그니처 스테이크의 가격과 특징은 무엇인가요? 그리고 스테이크와 어울리는 와인 추천도 해주세요.\")\n",
    "\n",
    "# 응답 출력 \n",
    "print(response.content)"
   ]
  },
  {
   "cell_type": "code",
   "execution_count": null,
   "metadata": {},
   "outputs": [],
   "source": []
  }
 ],
 "metadata": {
  "kernelspec": {
   "display_name": "workspace",
   "language": "python",
   "name": "python3"
  },
  "language_info": {
   "codemirror_mode": {
    "name": "ipython",
    "version": 3
   },
   "file_extension": ".py",
   "mimetype": "text/x-python",
   "name": "python",
   "nbconvert_exporter": "python",
   "pygments_lexer": "ipython3",
   "version": "3.13.0"
  }
 },
 "nbformat": 4,
 "nbformat_minor": 2
}
